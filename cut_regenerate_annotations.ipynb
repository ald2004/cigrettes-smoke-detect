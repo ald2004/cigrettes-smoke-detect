{
 "cells": [
  {
   "cell_type": "code",
   "execution_count": 3,
   "metadata": {},
   "outputs": [],
   "source": [
    "import os\n",
    "os.chdir('/dev/shm/smoke')"
   ]
  },
  {
   "cell_type": "code",
   "execution_count": 5,
   "metadata": {},
   "outputs": [
    {
     "name": "stdout",
     "output_type": "stream",
     "text": [
      "\u001b[0m\u001b[01;34mapis\u001b[0m/            \u001b[01;32mdarknet\u001b[0m*           \u001b[01;36mlibdarknet.so\u001b[0m@            smoke_cli.ipynb\r\n",
      "\u001b[01;34mbackup\u001b[0m/          \u001b[01;36mdarknet.py\u001b[0m@        \u001b[01;32mlibuse.so\u001b[0m*                smoke.ipynb\r\n",
      "bad.list         \u001b[01;34mdata\u001b[0m/              \u001b[01;34mlogs\u001b[0m/                     \u001b[01;34mtestdata\u001b[0m/\r\n",
      "\u001b[01;34mcfg\u001b[0m/             dataloader.py      nohup.out                 uselib.py\r\n",
      "\u001b[01;35mchart.png\u001b[0m        emptyfilelist      picturefrombaidubing.txt  video_detector.py\r\n",
      "\u001b[01;35mchart_smoke.png\u001b[0m  \u001b[01;34mfromyuans\u001b[0m/         \u001b[01;34mplot\u001b[0m/                     video_writer.py\r\n",
      "\u001b[01;34mchrome\u001b[0m/          \u001b[01;32mgen_plot_loss.sh\u001b[0m*  \u001b[01;34m__pycache__\u001b[0m/\r\n",
      "cutavi.py        \u001b[01;32mgo.sh\u001b[0m*             \u001b[01;34mresult\u001b[0m/\r\n"
     ]
    }
   ],
   "source": [
    "ls"
   ]
  },
  {
   "cell_type": "code",
   "execution_count": 4,
   "metadata": {},
   "outputs": [
    {
     "data": {
      "text/plain": [
       "'/dev/shm/smoke'"
      ]
     },
     "execution_count": 4,
     "metadata": {},
     "output_type": "execute_result"
    }
   ],
   "source": [
    "pwd"
   ]
  },
  {
   "cell_type": "code",
   "execution_count": 12,
   "metadata": {},
   "outputs": [
    {
     "name": "stderr",
     "output_type": "stream",
     "text": [
      "2600it [02:24, 18.05it/s]\n"
     ]
    }
   ],
   "source": [
    "import cv2\n",
    "import glob\n",
    "import tqdm\n",
    "allfileids=list(map(str.strip,open('allfileids','r').readlines()))\n",
    "dh,dw=1080./700,1920./1430\n",
    "#print(dw*(a-1)+1,dh*(b),c*dw,d*dh)\n",
    "for idx,i in tqdm.tqdm(enumerate(allfileids)):\n",
    "    img=cv2.imread(f'data/{i}.jpg')\n",
    "    cutedimg=img[:700,490:,:]\n",
    "    cv2.imwrite(f'test/{i}.jpg',cutedimg)\n",
    "    anns=list(map(str.strip,open(f'data/{i}.txt','r').readlines()))\n",
    "    with open(f\"test/{i}.txt\",\"w\") as fid:\n",
    "        for ann in anns:\n",
    "            _,a,b,c,d=list(map(float,ann.split()))\n",
    "            fid.write(f\"0 {dw*(a-1)+1} {dh*(b)} {c*dw} {d*dh}\")\n",
    "            fid.write(\"\\n\")\n",
    "#     if idx>20:\n",
    "#         break"
   ]
  },
  {
   "cell_type": "code",
   "execution_count": 6,
   "metadata": {},
   "outputs": [
    {
     "name": "stderr",
     "output_type": "stream",
     "text": [
      "21it [00:01, 16.63it/s]\n"
     ]
    }
   ],
   "source": [
    "import cv2\n",
    "import glob\n",
    "import tqdm\n",
    "allfileids=list(map(str.strip,open('allfileids','r').readlines()))\n",
    "dh,dw=1080./700,1920./1430\n",
    "#print(dw*(a-1)+1,dh*(b),c*dw,d*dh)\n",
    "for idx,i in tqdm.tqdm(enumerate(allfileids)):\n",
    "    img=cv2.imread(f'data/j/{i}.jpg')\n",
    "    cutedimg=img[:700,490:,:]\n",
    "    cv2.imwrite(f'test/{i}.jpg',cutedimg)  \n",
    "#     if idx>20:\n",
    "#         break"
   ]
  }
 ],
 "metadata": {
  "kernelspec": {
   "display_name": "Python 3",
   "language": "python",
   "name": "python3"
  },
  "language_info": {
   "codemirror_mode": {
    "name": "ipython",
    "version": 3
   },
   "file_extension": ".py",
   "mimetype": "text/x-python",
   "name": "python",
   "nbconvert_exporter": "python",
   "pygments_lexer": "ipython3",
   "version": "3.6.9"
  }
 },
 "nbformat": 4,
 "nbformat_minor": 4
}
